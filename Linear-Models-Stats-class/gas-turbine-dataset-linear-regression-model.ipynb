{
 "cells": [
  {
   "cell_type": "code",
   "execution_count": 3,
   "metadata": {
    "collapsed": true
   },
   "outputs": [
    {
     "data": {
      "text/plain": "<torch._C.Generator at 0x7f953d7ee1b0>"
     },
     "execution_count": 3,
     "metadata": {},
     "output_type": "execute_result"
    }
   ],
   "source": [
    "import torch\n",
    "from torch.nn import Linear\n",
    "import pandas as pd\n",
    "import numpy as np\n",
    "import torch.optim as optim\n",
    "\n",
    "# Ignore Warnings\n",
    "import warnings\n",
    "warnings.filterwarnings(\"ignore\")\n",
    "\n",
    "# set random seed\n",
    "torch.manual_seed(1)"
   ]
  },
  {
   "cell_type": "markdown",
   "source": [
    "Load the data from the entire csv file"
   ],
   "metadata": {
    "collapsed": false,
    "pycharm": {
     "name": "#%% md\n"
    }
   }
  },
  {
   "cell_type": "code",
   "execution_count": 4,
   "outputs": [],
   "source": [
    "D = torch.tensor(pd.read_csv('datasets/GasTurbine.csv').values, dtype=torch.float)\n",
    "\n",
    "x_dataset = D[:,0:6].t()\n",
    "y_dataset = D[:,6:7].t()"
   ],
   "metadata": {
    "collapsed": false,
    "pycharm": {
     "name": "#%%\n"
    }
   }
  },
  {
   "cell_type": "code",
   "execution_count": 5,
   "outputs": [],
   "source": [
    "n = 6"
   ],
   "metadata": {
    "collapsed": false,
    "pycharm": {
     "name": "#%%\n"
    }
   }
  },
  {
   "cell_type": "markdown",
   "source": [
    "Model definition"
   ],
   "metadata": {
    "collapsed": false,
    "pycharm": {
     "name": "#%% md\n"
    }
   }
  },
  {
   "cell_type": "code",
   "execution_count": 83,
   "outputs": [],
   "source": [
    "A = torch.randn((1,n), requires_grad=True)\n",
    "b = torch.randn(1,requires_grad=True)\n",
    "\n",
    "# Then we define the prediction model\n",
    "def model(x_input):\n",
    "    return A.mm(x_input) + b\n",
    "\n",
    "# Loss function definition\n",
    "def loss(y_predicted, x_predicted):\n",
    "    return ((y_predicted-x_predicted)**2).sum()\n",
    "\n",
    "# Training the model\n",
    "optimizer = optim.Adam([A,b], lr=0.1)\n",
    "\n",
    "for t in range(1000):\n",
    "    optimizer.zero_grad()\n",
    "\n",
    "    y_predicted = model(x_dataset)\n",
    "\n",
    "    current_loss = loss(y_predicted, y_dataset)\n",
    "\n",
    "    current_loss.backward()\n",
    "\n",
    "    optimizer.step()\n",
    "    # print(f\"t = {t}, loss = {current_loss}, A = {A.detach().numpy()}, b = {b.item()}\")"
   ],
   "metadata": {
    "collapsed": false,
    "pycharm": {
     "name": "#%%\n"
    }
   }
  },
  {
   "cell_type": "code",
   "execution_count": 57,
   "outputs": [],
   "source": [
    "# print(x_dataset.t())\n",
    "# print(y_predicted.t())\n",
    "# y_predicted_check = y_predicted.data\n",
    "# print(y_predicted_check)"
   ],
   "metadata": {
    "collapsed": false,
    "pycharm": {
     "name": "#%%\n"
    }
   }
  },
  {
   "cell_type": "code",
   "execution_count": 80,
   "outputs": [
    {
     "data": {
      "text/plain": "<Figure size 432x288 with 1 Axes>",
      "image/png": "[encoded data removed]"
     },
     "metadata": {
      "needs_background": "light"
     },
     "output_type": "display_data"
    }
   ],
   "source": [
    "from matplotlib import pyplot as plt\n",
    "plt.clf()\n",
    "plt.plot(x_dataset.t(), y_dataset.t(), 'go', label='True data', alpha=1)\n",
    "plt.plot(x_dataset.t(), y_predicted.data.t(), '3', label='Predictions', alpha=0.8)\n",
    "plt.legend(loc='best')\n",
    "plt.show()"
   ],
   "metadata": {
    "collapsed": false,
    "pycharm": {
     "name": "#%%\n"
    }
   }
  },
  {
   "cell_type": "code",
   "execution_count": 84,
   "outputs": [
    {
     "name": "stdout",
     "output_type": "stream",
     "text": [
      "tensor(0.9804)\n"
     ]
    }
   ],
   "source": [
    "y_mean = y_dataset.mean()\n",
    "SSModel = ((y_predicted.t() - y_mean)**2).sum()\n",
    "SSTotal = ((y_dataset.t() - y_mean)**2).sum()\n",
    "r2 = SSModel.data/SSTotal.data\n",
    "print(r2)"
   ],
   "metadata": {
    "collapsed": false,
    "pycharm": {
     "name": "#%%\n"
    }
   }
  }
 ],
 "metadata": {
  "kernelspec": {
   "display_name": "Python 3",
   "language": "python",
   "name": "python3"
  },
  "language_info": {
   "codemirror_mode": {
    "name": "ipython",
    "version": 2
   },
   "file_extension": ".py",
   "mimetype": "text/x-python",
   "name": "python",
   "nbconvert_exporter": "python",
   "pygments_lexer": "ipython2",
   "version": "2.7.6"
  }
 },
 "nbformat": 4,
 "nbformat_minor": 0
}